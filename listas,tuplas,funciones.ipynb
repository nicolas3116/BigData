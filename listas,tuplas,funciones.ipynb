{
  "nbformat": 4,
  "nbformat_minor": 0,
  "metadata": {
    "colab": {
      "name": "listas,tuplas,funciones.ipynb",
      "provenance": []
    },
    "kernelspec": {
      "name": "python3",
      "display_name": "Python 3"
    },
    "language_info": {
      "name": "python"
    }
  },
  "cells": [
    {
      "cell_type": "code",
      "execution_count": null,
      "metadata": {
        "colab": {
          "base_uri": "https://localhost:8080/"
        },
        "id": "mrsMDBCIX1dU",
        "outputId": "a8ea792f-3fa2-49c1-a0fe-979ff74438d8"
      },
      "outputs": [
        {
          "output_type": "stream",
          "name": "stdout",
          "text": [
            "numero  1\n",
            "numero  2\n",
            "numero  3\n",
            "numero  4\n",
            "numero  6\n"
          ]
        }
      ],
      "source": [
        "vector =[1,2,3,4,6]\n",
        "\n",
        "for item in vector:\n",
        "  print(\"numero \", item)"
      ]
    },
    {
      "cell_type": "code",
      "source": [
        "nombre = \"nicolas\"\n",
        "x= 2\n",
        "z=3\n",
        "y= nombre + str(x) #cambio de variable en python se le asigna el tipo a ese variable str(x)\n",
        "print(y)"
      ],
      "metadata": {
        "colab": {
          "base_uri": "https://localhost:8080/"
        },
        "id": "Bc3l0Ssxb1VZ",
        "outputId": "948aea3a-f7c5-41ac-a89c-02f6010cee91"
      },
      "execution_count": null,
      "outputs": [
        {
          "output_type": "stream",
          "name": "stdout",
          "text": [
            "nicolas2\n"
          ]
        }
      ]
    },
    {
      "cell_type": "code",
      "source": [
        "horas= input(\"ingrese numero de horas laboradas\") \n",
        "costo= input(\"ingrese coste por hora\")\n",
        "suma = int(horas) * int(costo)\n",
        "print(suma)\n",
        "\n",
        "\n"
      ],
      "metadata": {
        "colab": {
          "base_uri": "https://localhost:8080/"
        },
        "id": "WbHBXhN5crbt",
        "outputId": "65eea281-70f5-48ac-c847-828a0031412d"
      },
      "execution_count": null,
      "outputs": [
        {
          "output_type": "stream",
          "name": "stdout",
          "text": [
            "ingrese numero de horas laboradas4\n",
            "ingrese coste por hora4\n",
            "16\n"
          ]
        }
      ]
    },
    {
      "cell_type": "code",
      "source": [
        "peso =input(\"ingrese su peso\")\n",
        "estatura = input(\"ingrese su estatura\")\n",
        "imc = int(peso)/float(estatura) \n",
        "print(\"su indice de masa es: \", imc)\n",
        "\n"
      ],
      "metadata": {
        "colab": {
          "base_uri": "https://localhost:8080/"
        },
        "id": "gG2heh7reSrx",
        "outputId": "bfd9441f-8ffc-43d9-d047-7a73b52cb7fc"
      },
      "execution_count": null,
      "outputs": [
        {
          "output_type": "stream",
          "name": "stdout",
          "text": [
            "ingrese su peso80\n",
            "ingrese su estatura1.70\n",
            "su indice de masa es:  47.05882352941177\n"
          ]
        }
      ]
    },
    {
      "cell_type": "code",
      "source": [
        "barrasV= input(\"ingrese barras vendidas\")\n",
        "dulces = 450\n",
        "descuento = dulces * 0.5\n"
      ],
      "metadata": {
        "id": "pyfn8g6Nhcjm"
      },
      "execution_count": null,
      "outputs": []
    },
    {
      "cell_type": "markdown",
      "source": [
        "<h1>Listas</h1>\n"
      ],
      "metadata": {
        "id": "EWZs4aoH_48h"
      }
    },
    {
      "cell_type": "code",
      "source": [
        "lista_nombres =[\"steven\", \"nicolas\"]\n",
        "lista_numeros=[1,2,3,4]\n",
        "\n",
        "#suma de dos listas\n",
        "#[] se ponen las llaves con el fin de concatenarle otra lista\n",
        "#a esto se le llama sobrecarga\n",
        "print(lista_nombres + [\"1\"])\n",
        "\n",
        "#si lo que quiero es duplicar el contenido de mi lista\n",
        "print(lista_nombres * 2)\n",
        "#concatenar otros dos nombres\n",
        "lista2= lista_nombres + [\"carlos\"]\n",
        "print(lista2)\n"
      ],
      "metadata": {
        "colab": {
          "base_uri": "https://localhost:8080/"
        },
        "id": "nG4soJpe_-RA",
        "outputId": "6514cfd5-554c-4ed5-ffd9-8c849ddebb08"
      },
      "execution_count": null,
      "outputs": [
        {
          "output_type": "stream",
          "name": "stdout",
          "text": [
            "['steven', 'nicolas', '1']\n",
            "['steven', 'nicolas', 'steven', 'nicolas']\n",
            "['steven', 'nicolas', 'carlos']\n"
          ]
        }
      ]
    },
    {
      "cell_type": "code",
      "source": [
        "#tupla\n",
        "mi_tupla=(1,2,3,4)\n"
      ],
      "metadata": {
        "id": "FaX47__1EZOv"
      },
      "execution_count": null,
      "outputs": []
    },
    {
      "cell_type": "code",
      "source": [
        "#en las tuplas no se pueden agregar elementos\n",
        "mi_tupla=5 #en este caso al imprimir la tupla el valor cambia\n",
        "print(mi_tupla)"
      ],
      "metadata": {
        "colab": {
          "base_uri": "https://localhost:8080/"
        },
        "id": "-NS2NqC3Ehg3",
        "outputId": "7a7abfbb-b838-4b4b-9cef-36b9e64de191"
      },
      "execution_count": null,
      "outputs": [
        {
          "output_type": "stream",
          "name": "stdout",
          "text": [
            "5\n"
          ]
        }
      ]
    },
    {
      "cell_type": "code",
      "source": [
        "#diccionarios\n",
        "\n",
        "persona= {\"nombre\":\"pepito\", \"apellido\":\"perez\", \"edad\": 34}\n",
        "print(persona[\"nombre\"])\n"
      ],
      "metadata": {
        "colab": {
          "base_uri": "https://localhost:8080/"
        },
        "id": "bXKdRqQ4Atfb",
        "outputId": "4167c9b4-55dc-44a4-ac95-f79f10c85f33"
      },
      "execution_count": null,
      "outputs": [
        {
          "output_type": "stream",
          "name": "stdout",
          "text": [
            "pepito\n"
          ]
        }
      ]
    },
    {
      "cell_type": "code",
      "source": [
        "tupla_indices =(\"nombre\", \"apellido\")\n",
        "for i in tupla_indices: #recorrer ls elementos de la tupla \n",
        "  print(\"llave:\",i, \"valor\", persona[i])"
      ],
      "metadata": {
        "colab": {
          "base_uri": "https://localhost:8080/"
        },
        "id": "Y3CG_IldFZ9x",
        "outputId": "ab581ef5-08ea-494c-99c0-08cc09ea1bd0"
      },
      "execution_count": null,
      "outputs": [
        {
          "output_type": "stream",
          "name": "stdout",
          "text": [
            "llave: nombre valor pepito\n",
            "llave: apellido valor perez\n"
          ]
        }
      ]
    },
    {
      "cell_type": "markdown",
      "source": [
        "<h2> Funciones </h2>\n"
      ],
      "metadata": {
        "id": "522H77W8Hdqc"
      }
    },
    {
      "cell_type": "code",
      "source": [
        "#dentro de la funcion el valor puede cambiar\n",
        "def saludar ( nombre):\n",
        "  nombre=1234\n",
        "  print(\"hola\", nombre)\n",
        "name=\"nicolas\" #una vez sale de la funcion el valor original no cambia como variable global \n",
        "saludar(name)\n",
        "print(name)"
      ],
      "metadata": {
        "colab": {
          "base_uri": "https://localhost:8080/"
        },
        "id": "g0dpH-xUHiO7",
        "outputId": "bcdfc9a5-f3f4-432c-be29-d4c4d3e42be5"
      },
      "execution_count": null,
      "outputs": [
        {
          "output_type": "stream",
          "name": "stdout",
          "text": [
            "hola 1234\n",
            "nicolas\n"
          ]
        }
      ]
    },
    {
      "cell_type": "code",
      "source": [
        ""
      ],
      "metadata": {
        "id": "9R1l9DNzg7vr"
      },
      "execution_count": null,
      "outputs": []
    },
    {
      "cell_type": "code",
      "source": [
        "x= int(input(\"cantidad de numeros\"))\n",
        "for i in range(x): # funcion range crea una lista de numeros ordenados\n",
        "  y=int(input(\"ingrese el valor  \"+ str(i)))\n",
        "  print(y)"
      ],
      "metadata": {
        "colab": {
          "base_uri": "https://localhost:8080/"
        },
        "id": "egcinPZeJ_4t",
        "outputId": "913982d5-864c-4bd5-a02d-40adbef362e7"
      },
      "execution_count": null,
      "outputs": [
        {
          "output_type": "stream",
          "name": "stdout",
          "text": [
            "cantidad de numeros2\n",
            "ingrese el valor  0566\n",
            "566\n",
            "ingrese el valor  1215\n",
            "215\n"
          ]
        }
      ]
    },
    {
      "cell_type": "code",
      "source": [
        "x2=int(input(\"cantidad de numeros\"))\n",
        "r=range(x2) #en este caso el range contruye un arreglo de una cantidad de numeros x ingresado por el usuario\n",
        "for i in r:\n",
        "  print(i)"
      ],
      "metadata": {
        "colab": {
          "base_uri": "https://localhost:8080/"
        },
        "id": "SSwISsnnKwkV",
        "outputId": "f7685ed5-7786-448f-c3bb-bf26528647d9"
      },
      "execution_count": null,
      "outputs": [
        {
          "output_type": "stream",
          "name": "stdout",
          "text": [
            "cantidad de numeros20\n",
            "0\n",
            "1\n",
            "2\n",
            "3\n",
            "4\n",
            "5\n",
            "6\n",
            "7\n",
            "8\n",
            "9\n",
            "10\n",
            "11\n",
            "12\n",
            "13\n",
            "14\n",
            "15\n",
            "16\n",
            "17\n",
            "18\n",
            "19\n"
          ]
        }
      ]
    },
    {
      "cell_type": "code",
      "source": [
        "def calcular_total (productos,iva=0.16):\n",
        "  sum=0\n",
        "  for p in productos:\n",
        "    sum = sum + ((p*iva)+p)\n",
        "  return sum"
      ],
      "metadata": {
        "id": "yP3PAVQHNg2G"
      },
      "execution_count": null,
      "outputs": []
    },
    {
      "cell_type": "code",
      "source": [
        "print(calcular_total([122,23,33]))"
      ],
      "metadata": {
        "colab": {
          "base_uri": "https://localhost:8080/"
        },
        "id": "4cQ5ONp-OW-v",
        "outputId": "b9c920b1-ba68-47f8-98ca-9fbfcd760101"
      },
      "execution_count": null,
      "outputs": [
        {
          "output_type": "stream",
          "name": "stdout",
          "text": [
            "206.48000000000002\n"
          ]
        }
      ]
    }
  ]
}