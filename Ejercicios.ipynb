{
  "nbformat": 4,
  "nbformat_minor": 0,
  "metadata": {
    "colab": {
      "name": "Ejercicios.ipynb",
      "provenance": []
    },
    "kernelspec": {
      "name": "python3",
      "display_name": "Python 3"
    },
    "language_info": {
      "name": "python"
    }
  },
  "cells": [
    {
      "cell_type": "markdown",
      "source": [
        "Escribir un programa que almacene X cantidad de\n",
        "números en una lista y que luego de ingresar esa\n",
        "cantidad de números retorne la suma de todos ellos.\n",
        "Debe comprobar que la propiedad conmutativa de la\n",
        "suma es verdadera, para ello debe imprimir como se\n",
        "realizó esta comprobación.\n"
      ],
      "metadata": {
        "id": "tVF8pS1k7HUB"
      }
    },
    {
      "cell_type": "code",
      "execution_count": null,
      "metadata": {
        "colab": {
          "base_uri": "https://localhost:8080/"
        },
        "id": "PlZnHFzW6hZv",
        "outputId": "79534de0-f7dc-46b2-aad1-ff32f215d9e6"
      },
      "outputs": [
        {
          "output_type": "stream",
          "name": "stdout",
          "text": [
            "ingrese cantidad de numeros : 3\n",
            "3\n"
          ]
        }
      ],
      "source": [
        "lista_numeros = int(input(\"ingrese cantidad de numeros : \"))\n",
        "r= range(lista_numeros) #se crea la lista ordenada, guardando en la variable r\n",
        "\n",
        "def sumar(lista_numeros): #funcion de suma de la lista\n",
        "  sum=0\n",
        "  for i in r: #la variable i recorre la coleccion elemento por elemento\n",
        "\n",
        "    sum += i #sumamos el valor actual de suma y el valor de i(iteracion)\n",
        "    \n",
        "  return sum \n",
        "print(sumar(lista_numeros))\n",
        " \n",
        "  \n",
        "  \n",
        "  "
      ]
    },
    {
      "cell_type": "markdown",
      "source": [
        "Escribir un programa que pida al usuario una palabra y\n",
        "muestre por pantalla si es un palíndromo."
      ],
      "metadata": {
        "id": "IrWRwiQkNM8q"
      }
    },
    {
      "cell_type": "code",
      "source": [
        "palabra= input(\"ingrese una palabra :\")\n",
        "\n",
        "def palindromo(palabra):\n",
        "  \n",
        "  palabra = palabra.replace(' ', '') #quitar todos los caracteres de espacio\n",
        "  #usando modulo 2 sabremos si la palabra es par\n",
        "  if len(palabra) % 2 == 0: #aplicamos lenght para saber longitud de la cadena ingresada\n",
        "    pass\n",
        "  else :\n",
        "    izq = palabra[:longitud // 2]\n",
        "    der = palabra[   ]    \n",
        "\n"
      ],
      "metadata": {
        "colab": {
          "base_uri": "https://localhost:8080/"
        },
        "id": "F0uV3h70NOJY",
        "outputId": "44d4d7cb-988b-4250-9f4d-cc452c59aeea"
      },
      "execution_count": null,
      "outputs": [
        {
          "name": "stdout",
          "output_type": "stream",
          "text": [
            "ingrese una palabra :anita\n"
          ]
        }
      ]
    }
  ]
}